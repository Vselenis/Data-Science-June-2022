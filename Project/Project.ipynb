{
 "cells": [
  {
   "cell_type": "code",
   "execution_count": 108,
   "metadata": {},
   "outputs": [],
   "source": [
    "import numpy as np\n",
    "import matplotlib.pyplot as plt\n",
    "import pandas as pd\n",
    "\n",
    "import nose.tools\n",
    "import io\n",
    "import math\n",
    "from scipy import stats\n",
    "from datetime import date\n",
    "import seaborn as sns \n",
    "\n",
    "import plotly.express as px\n",
    "import plotly.graph_objects as go"
   ]
  },
  {
   "cell_type": "markdown",
   "metadata": {},
   "source": [
    "<h1><center> Burnout at working place </center></h1> \n",
    "<h5><center> Author: Vasil Kichukov </center></h5> "
   ]
  },
  {
   "cell_type": "markdown",
   "metadata": {},
   "source": [
    "## References <a class=\"anchor\" id=\"References\"></a>\n",
    "\n",
    "\n",
    "1. https://www.gallup.com/workplace/357404/manager-burnout-getting-worse.aspx\n",
    "2. https://bmcpublichealth.biomedcentral.com/articles/10.1186/s12889-021-10670-7\n",
    "3. https://www.city-journal.org/html/why-gender-gap-won%E2%80%99t-go-away-ever-13395.html\n",
    "4. Leiter, M. P., Maslach, C., & Frame, K. (2015). Burnout. The Encyclopedia of Clinical Psychology, 1–7.\n",
    "5. Maslach, C., Schaufeli, W. B., & Leiter, M. P. (2001). Job Burnout. Annual Review of Psychology, 52(1), 397–422.\n"
   ]
  },
  {
   "cell_type": "markdown",
   "metadata": {},
   "source": [
    "## Abstract ##\n",
    "\n",
    "\n",
    "Burnout is a prolonged response to chronic emotional and interpersonal stressors on the job and encompasses tiredness, exhaustion, and emotional drain. It is viewed mainly as an occupational phenomenon with a high cost in psychological and economic terms. As in the contemporary competitive world, companies strive toward maximum efficiency, it looks like extensive working hours and high revs are actually damaging organizational aims. Therefore the current project hopes to empower business productivity through insights into the real impact of basic job factors such as home office."
   ]
  },
  {
   "cell_type": "markdown",
   "metadata": {},
   "source": [
    "## Introduction ##\n",
    "\n",
    "The statement “Burnout is about your workplace, not your people” raises some serious questions I hope to answer partially throughout the data. Apart from the dangerous individual consequences such as depersonalization, stress at work also results in enormous economic losses. The World Economic Forum estimates burnout’s global price at 322 billion dollars. \n",
    "Job burnout symptoms also result in lost creativity, reduced commitment to work, estrangement from various job components, physical and emotional ailments, inappropriate attitudes toward self and clients, and a general sense of exhaustion. Subsequently, with burnout levels rising, employees may unknowingly cause harm to themselves, coworkers, clients, and the organization.\n",
    "The factors causing burnout are normally conceived as being individual and situational. The principal situational factors can be categorized as job characteristics, occupational characteristics, and organizational characteristics. Job characteristics linked to burnout include work overload, job demands, time pressure, role conflict, and role ambiguity. Issues of control and information are also crucial factors. People who have little participation in decision-making or have a lack of autonomy are especially likely to experience burnout. Occupational characteristics, on the other hand, include the job’s emotional demands while organizational are focused on the immediate context in which the work occurs. With the expansion of companies, it can be said that hierarchies, operating rules, resources, and space distribution can have a far-reaching and persistent influence, particularly when they violate basic expectations of fairness and equity.\n",
    "Since it is an occupational phenomenon, we can say that employers and employees can both take action to prevent burnout. For instance, by rebuilding company procedures and culture, some of the antecedents, such as job overload and poor organizational fairness, can be solved.\n",
    "The current project aims to gain some guidance on the influence of several factors in a corporate context on the levels of burnout and mental tiredness in employees. The aspects that will be explored include the company’s type, options for remote work, designation, and resource allocation. The key hypotheses are centralized around the following statements:\n",
    "Longer working hours are associated with higher levels of both burnout and mental fatigue. \n",
    "Employees who have an option for home office tend to experience lesser levels of burnout in comparison with those who don’t have.\n"
   ]
  },
  {
   "cell_type": "markdown",
   "metadata": {},
   "source": [
    "## Conclusion \n",
    "\n",
    "Happy and healthy employees are indisputably more productive at work, and in turn, help the business flourish profoundly.\n",
    "\n",
    "However, since working from home has become the new strange normal, over 69% of employees have been showing burnout symptoms globally (source: Monster poll). This rate of burnout is indeed alarming and the likes of Google and Cisco (even HackerEarth!) are taking steps that ensure wellness and reduce burnout among employees.\n",
    "\n",
    "This October 10th, in honor of World Mental Health Day, your business has stepped in to help its employees in effectively scheduling their work plans to avoid burnout."
   ]
  },
  {
   "cell_type": "markdown",
   "metadata": {},
   "source": [
    "## About Dataset ## \n",
    "\n",
    "#### Context ####\n",
    "\n",
    "Understanding what will be the Burn Rate for the employee working in an organization based on the current pandemic situation where work from home is a boon and a bane. How are employees' Burn Rate affected based on various conditions provided?\n",
    "\n",
    "###  Content\n",
    "Globally, World Mental Health Day is celebrated on October 10 each year. The objective of this day is to raise awareness about mental health issues around the world and mobilize efforts in support of mental health. According to an anonymous survey, about 450 million people live with mental disorders that can be one of the primary causes of poor health and disability worldwide. These days when the world is suffering from a pandemic situation, it becomes really hard to maintain mental fitness.\n",
    "\n",
    "Employee ID: The unique ID allocated for each employee (example: fffe390032003000)\n",
    "\n",
    "Date of Joining: The date-time when the employee has joined the organization (example: 2008-12-30)\n",
    "\n",
    "Gender: The gender of the employee (Male/Female)\n",
    "\n",
    "Company Type: The type of company where the employee is working (Service/Product)\n",
    "\n",
    "WFH Setup Available: Is the work from home facility available for the employee (Yes/No)\n",
    "\n",
    "Designation: The designation of the employee of work in the organization.\n",
    "In the range of [0.0, 5.0] bigger is higher designation.\n",
    "\n",
    "Resource Allocation: The amount of resource allocated to the employee to work, ie. number of working hours.\n",
    "In the range of [1.0, 10.0] (higher means more resource)\n",
    "\n",
    "Mental Fatigue Score: The level of fatigue mentally the employee is facing.\n",
    "In the range of [0.0, 10.0] where 0.0 means no fatigue and 10.0 means completely fatigue.\n",
    "\n",
    "Burn Rate: The value we need to predict for each employee telling the rate of Bur out while working.\n",
    "In the range of [0.0, 1.0] where the higher the value is more is the burn out."
   ]
  },
  {
   "cell_type": "markdown",
   "metadata": {},
   "source": [
    "### Inspiration \n",
    "Try to build some really amazing predictions keeping in mind that happy and healthy employees are indisputably more productive at work, and in turn, help the business flourish profoundly."
   ]
  },
  {
   "cell_type": "markdown",
   "metadata": {},
   "source": [
    "## 1.Reading, Tidying and Cleaning data"
   ]
  },
  {
   "cell_type": "code",
   "execution_count": 109,
   "metadata": {
    "scrolled": true
   },
   "outputs": [
    {
     "data": {
      "text/html": [
       "<div>\n",
       "<style scoped>\n",
       "    .dataframe tbody tr th:only-of-type {\n",
       "        vertical-align: middle;\n",
       "    }\n",
       "\n",
       "    .dataframe tbody tr th {\n",
       "        vertical-align: top;\n",
       "    }\n",
       "\n",
       "    .dataframe thead th {\n",
       "        text-align: right;\n",
       "    }\n",
       "</style>\n",
       "<table border=\"1\" class=\"dataframe\">\n",
       "  <thead>\n",
       "    <tr style=\"text-align: right;\">\n",
       "      <th></th>\n",
       "      <th>Employee ID</th>\n",
       "      <th>Date of Joining</th>\n",
       "      <th>Gender</th>\n",
       "      <th>Company Type</th>\n",
       "      <th>WFH Setup Available</th>\n",
       "      <th>Designation</th>\n",
       "      <th>Resource Allocation</th>\n",
       "      <th>Mental Fatigue Score</th>\n",
       "      <th>Burn Rate</th>\n",
       "    </tr>\n",
       "  </thead>\n",
       "  <tbody>\n",
       "    <tr>\n",
       "      <th>0</th>\n",
       "      <td>fffe32003000360033003200</td>\n",
       "      <td>2008-09-30</td>\n",
       "      <td>Female</td>\n",
       "      <td>Service</td>\n",
       "      <td>No</td>\n",
       "      <td>2.0</td>\n",
       "      <td>3.0</td>\n",
       "      <td>3.8</td>\n",
       "      <td>0.16</td>\n",
       "    </tr>\n",
       "    <tr>\n",
       "      <th>1</th>\n",
       "      <td>fffe3700360033003500</td>\n",
       "      <td>2008-11-30</td>\n",
       "      <td>Male</td>\n",
       "      <td>Service</td>\n",
       "      <td>Yes</td>\n",
       "      <td>1.0</td>\n",
       "      <td>2.0</td>\n",
       "      <td>5.0</td>\n",
       "      <td>0.36</td>\n",
       "    </tr>\n",
       "    <tr>\n",
       "      <th>2</th>\n",
       "      <td>fffe31003300320037003900</td>\n",
       "      <td>2008-03-10</td>\n",
       "      <td>Female</td>\n",
       "      <td>Product</td>\n",
       "      <td>Yes</td>\n",
       "      <td>2.0</td>\n",
       "      <td>NaN</td>\n",
       "      <td>5.8</td>\n",
       "      <td>0.49</td>\n",
       "    </tr>\n",
       "    <tr>\n",
       "      <th>3</th>\n",
       "      <td>fffe32003400380032003900</td>\n",
       "      <td>2008-11-03</td>\n",
       "      <td>Male</td>\n",
       "      <td>Service</td>\n",
       "      <td>Yes</td>\n",
       "      <td>1.0</td>\n",
       "      <td>1.0</td>\n",
       "      <td>2.6</td>\n",
       "      <td>0.20</td>\n",
       "    </tr>\n",
       "    <tr>\n",
       "      <th>4</th>\n",
       "      <td>fffe31003900340031003600</td>\n",
       "      <td>2008-07-24</td>\n",
       "      <td>Female</td>\n",
       "      <td>Service</td>\n",
       "      <td>No</td>\n",
       "      <td>3.0</td>\n",
       "      <td>7.0</td>\n",
       "      <td>6.9</td>\n",
       "      <td>0.52</td>\n",
       "    </tr>\n",
       "  </tbody>\n",
       "</table>\n",
       "</div>"
      ],
      "text/plain": [
       "                Employee ID Date of Joining  Gender Company Type  \\\n",
       "0  fffe32003000360033003200      2008-09-30  Female      Service   \n",
       "1      fffe3700360033003500      2008-11-30    Male      Service   \n",
       "2  fffe31003300320037003900      2008-03-10  Female      Product   \n",
       "3  fffe32003400380032003900      2008-11-03    Male      Service   \n",
       "4  fffe31003900340031003600      2008-07-24  Female      Service   \n",
       "\n",
       "  WFH Setup Available  Designation  Resource Allocation  Mental Fatigue Score  \\\n",
       "0                  No          2.0                  3.0                   3.8   \n",
       "1                 Yes          1.0                  2.0                   5.0   \n",
       "2                 Yes          2.0                  NaN                   5.8   \n",
       "3                 Yes          1.0                  1.0                   2.6   \n",
       "4                  No          3.0                  7.0                   6.9   \n",
       "\n",
       "   Burn Rate  \n",
       "0       0.16  \n",
       "1       0.36  \n",
       "2       0.49  \n",
       "3       0.20  \n",
       "4       0.52  "
      ]
     },
     "execution_count": 109,
     "metadata": {},
     "output_type": "execute_result"
    }
   ],
   "source": [
    "employees_data = pd.read_csv(\"data\\employes_2008.csv\")\n",
    "employees_data.head()"
   ]
  },
  {
   "cell_type": "code",
   "execution_count": 110,
   "metadata": {},
   "outputs": [
    {
     "data": {
      "text/plain": [
       "Employee ID              object\n",
       "Date of Joining          object\n",
       "Gender                   object\n",
       "Company Type             object\n",
       "WFH Setup Available      object\n",
       "Designation             float64\n",
       "Resource Allocation     float64\n",
       "Mental Fatigue Score    float64\n",
       "Burn Rate               float64\n",
       "dtype: object"
      ]
     },
     "execution_count": 110,
     "metadata": {},
     "output_type": "execute_result"
    }
   ],
   "source": [
    "employees_data.dtypes"
   ]
  },
  {
   "cell_type": "markdown",
   "metadata": {},
   "source": [
    "First column \"Employee ID\" looks with unique values for every single employee. Let's check if this is true."
   ]
  },
  {
   "cell_type": "code",
   "execution_count": 111,
   "metadata": {},
   "outputs": [
    {
     "data": {
      "text/plain": [
       "0"
      ]
     },
     "execution_count": 111,
     "metadata": {},
     "output_type": "execute_result"
    }
   ],
   "source": [
    "len(employees_data['Employee ID'].unique()) - employees_data.shape[0]"
   ]
  },
  {
   "cell_type": "markdown",
   "metadata": {},
   "source": [
    "OK, looks like I was right, we can make our first column an index. In fact, our columns have quite simple data, but at the same time they are represented by complex. If we are reading this dataset for the first time, it will take us a long time to understand what each one describes. Let's rename the columns with simpler and easier to understand words."
   ]
  },
  {
   "cell_type": "code",
   "execution_count": 112,
   "metadata": {
    "scrolled": true
   },
   "outputs": [
    {
     "data": {
      "text/html": [
       "<div>\n",
       "<style scoped>\n",
       "    .dataframe tbody tr th:only-of-type {\n",
       "        vertical-align: middle;\n",
       "    }\n",
       "\n",
       "    .dataframe tbody tr th {\n",
       "        vertical-align: top;\n",
       "    }\n",
       "\n",
       "    .dataframe thead th {\n",
       "        text-align: right;\n",
       "    }\n",
       "</style>\n",
       "<table border=\"1\" class=\"dataframe\">\n",
       "  <thead>\n",
       "    <tr style=\"text-align: right;\">\n",
       "      <th></th>\n",
       "      <th>joined</th>\n",
       "      <th>gender</th>\n",
       "      <th>company_type</th>\n",
       "      <th>home_office</th>\n",
       "      <th>designation</th>\n",
       "      <th>working_hours</th>\n",
       "      <th>fatigue</th>\n",
       "      <th>burn_rate</th>\n",
       "    </tr>\n",
       "    <tr>\n",
       "      <th>employee_id</th>\n",
       "      <th></th>\n",
       "      <th></th>\n",
       "      <th></th>\n",
       "      <th></th>\n",
       "      <th></th>\n",
       "      <th></th>\n",
       "      <th></th>\n",
       "      <th></th>\n",
       "    </tr>\n",
       "  </thead>\n",
       "  <tbody>\n",
       "    <tr>\n",
       "      <th>fffe32003000360033003200</th>\n",
       "      <td>2008-09-30</td>\n",
       "      <td>Female</td>\n",
       "      <td>Service</td>\n",
       "      <td>No</td>\n",
       "      <td>2.0</td>\n",
       "      <td>3.0</td>\n",
       "      <td>3.8</td>\n",
       "      <td>0.16</td>\n",
       "    </tr>\n",
       "    <tr>\n",
       "      <th>fffe3700360033003500</th>\n",
       "      <td>2008-11-30</td>\n",
       "      <td>Male</td>\n",
       "      <td>Service</td>\n",
       "      <td>Yes</td>\n",
       "      <td>1.0</td>\n",
       "      <td>2.0</td>\n",
       "      <td>5.0</td>\n",
       "      <td>0.36</td>\n",
       "    </tr>\n",
       "    <tr>\n",
       "      <th>fffe31003300320037003900</th>\n",
       "      <td>2008-03-10</td>\n",
       "      <td>Female</td>\n",
       "      <td>Product</td>\n",
       "      <td>Yes</td>\n",
       "      <td>2.0</td>\n",
       "      <td>NaN</td>\n",
       "      <td>5.8</td>\n",
       "      <td>0.49</td>\n",
       "    </tr>\n",
       "    <tr>\n",
       "      <th>fffe32003400380032003900</th>\n",
       "      <td>2008-11-03</td>\n",
       "      <td>Male</td>\n",
       "      <td>Service</td>\n",
       "      <td>Yes</td>\n",
       "      <td>1.0</td>\n",
       "      <td>1.0</td>\n",
       "      <td>2.6</td>\n",
       "      <td>0.20</td>\n",
       "    </tr>\n",
       "    <tr>\n",
       "      <th>fffe31003900340031003600</th>\n",
       "      <td>2008-07-24</td>\n",
       "      <td>Female</td>\n",
       "      <td>Service</td>\n",
       "      <td>No</td>\n",
       "      <td>3.0</td>\n",
       "      <td>7.0</td>\n",
       "      <td>6.9</td>\n",
       "      <td>0.52</td>\n",
       "    </tr>\n",
       "  </tbody>\n",
       "</table>\n",
       "</div>"
      ],
      "text/plain": [
       "                              joined  gender company_type home_office  \\\n",
       "employee_id                                                             \n",
       "fffe32003000360033003200  2008-09-30  Female      Service          No   \n",
       "fffe3700360033003500      2008-11-30    Male      Service         Yes   \n",
       "fffe31003300320037003900  2008-03-10  Female      Product         Yes   \n",
       "fffe32003400380032003900  2008-11-03    Male      Service         Yes   \n",
       "fffe31003900340031003600  2008-07-24  Female      Service          No   \n",
       "\n",
       "                          designation  working_hours  fatigue  burn_rate  \n",
       "employee_id                                                               \n",
       "fffe32003000360033003200          2.0            3.0      3.8       0.16  \n",
       "fffe3700360033003500              1.0            2.0      5.0       0.36  \n",
       "fffe31003300320037003900          2.0            NaN      5.8       0.49  \n",
       "fffe32003400380032003900          1.0            1.0      2.6       0.20  \n",
       "fffe31003900340031003600          3.0            7.0      6.9       0.52  "
      ]
     },
     "execution_count": 112,
     "metadata": {},
     "output_type": "execute_result"
    }
   ],
   "source": [
    "column_names = [\"employee_id\",\"joined\",\"gender\",\"company_type\",\"home_office\",\"designation\",\"working_hours\",\"fatigue\",\"burn_rate\"]\n",
    "employees_data.columns = column_names\n",
    "employees_data.index = employees_data[\"employee_id\"]\n",
    "employees_data.drop(\"employee_id\", axis=1, inplace= True)\n",
    "employees_data.head()"
   ]
  },
  {
   "cell_type": "markdown",
   "metadata": {},
   "source": [
    "By analyzing the \"joined\" column, we can determine that everyone joined in 2008. While using column as a starting point, we can make a new column that displays the number of days (starting date is Jan 1, 2008). We will suppose that a person has more experience the more days he or she has. Setting the final date to December 31, 2008. I believe a longer term having higher value."
   ]
  },
  {
   "cell_type": "code",
   "execution_count": 113,
   "metadata": {},
   "outputs": [
    {
     "data": {
      "text/html": [
       "<div>\n",
       "<style scoped>\n",
       "    .dataframe tbody tr th:only-of-type {\n",
       "        vertical-align: middle;\n",
       "    }\n",
       "\n",
       "    .dataframe tbody tr th {\n",
       "        vertical-align: top;\n",
       "    }\n",
       "\n",
       "    .dataframe thead th {\n",
       "        text-align: right;\n",
       "    }\n",
       "</style>\n",
       "<table border=\"1\" class=\"dataframe\">\n",
       "  <thead>\n",
       "    <tr style=\"text-align: right;\">\n",
       "      <th></th>\n",
       "      <th>experience</th>\n",
       "      <th>gender</th>\n",
       "      <th>company_type</th>\n",
       "      <th>home_office</th>\n",
       "      <th>designation</th>\n",
       "      <th>working_hours</th>\n",
       "      <th>fatigue</th>\n",
       "      <th>burn_rate</th>\n",
       "    </tr>\n",
       "    <tr>\n",
       "      <th>employee_id</th>\n",
       "      <th></th>\n",
       "      <th></th>\n",
       "      <th></th>\n",
       "      <th></th>\n",
       "      <th></th>\n",
       "      <th></th>\n",
       "      <th></th>\n",
       "      <th></th>\n",
       "    </tr>\n",
       "  </thead>\n",
       "  <tbody>\n",
       "    <tr>\n",
       "      <th>fffe32003000360033003200</th>\n",
       "      <td>92</td>\n",
       "      <td>Female</td>\n",
       "      <td>Service</td>\n",
       "      <td>No</td>\n",
       "      <td>2.0</td>\n",
       "      <td>3.0</td>\n",
       "      <td>3.8</td>\n",
       "      <td>0.16</td>\n",
       "    </tr>\n",
       "    <tr>\n",
       "      <th>fffe3700360033003500</th>\n",
       "      <td>31</td>\n",
       "      <td>Male</td>\n",
       "      <td>Service</td>\n",
       "      <td>Yes</td>\n",
       "      <td>1.0</td>\n",
       "      <td>2.0</td>\n",
       "      <td>5.0</td>\n",
       "      <td>0.36</td>\n",
       "    </tr>\n",
       "    <tr>\n",
       "      <th>fffe31003300320037003900</th>\n",
       "      <td>296</td>\n",
       "      <td>Female</td>\n",
       "      <td>Product</td>\n",
       "      <td>Yes</td>\n",
       "      <td>2.0</td>\n",
       "      <td>NaN</td>\n",
       "      <td>5.8</td>\n",
       "      <td>0.49</td>\n",
       "    </tr>\n",
       "    <tr>\n",
       "      <th>fffe32003400380032003900</th>\n",
       "      <td>58</td>\n",
       "      <td>Male</td>\n",
       "      <td>Service</td>\n",
       "      <td>Yes</td>\n",
       "      <td>1.0</td>\n",
       "      <td>1.0</td>\n",
       "      <td>2.6</td>\n",
       "      <td>0.20</td>\n",
       "    </tr>\n",
       "    <tr>\n",
       "      <th>fffe31003900340031003600</th>\n",
       "      <td>160</td>\n",
       "      <td>Female</td>\n",
       "      <td>Service</td>\n",
       "      <td>No</td>\n",
       "      <td>3.0</td>\n",
       "      <td>7.0</td>\n",
       "      <td>6.9</td>\n",
       "      <td>0.52</td>\n",
       "    </tr>\n",
       "  </tbody>\n",
       "</table>\n",
       "</div>"
      ],
      "text/plain": [
       "                          experience  gender company_type home_office  \\\n",
       "employee_id                                                             \n",
       "fffe32003000360033003200          92  Female      Service          No   \n",
       "fffe3700360033003500              31    Male      Service         Yes   \n",
       "fffe31003300320037003900         296  Female      Product         Yes   \n",
       "fffe32003400380032003900          58    Male      Service         Yes   \n",
       "fffe31003900340031003600         160  Female      Service          No   \n",
       "\n",
       "                          designation  working_hours  fatigue  burn_rate  \n",
       "employee_id                                                               \n",
       "fffe32003000360033003200          2.0            3.0      3.8       0.16  \n",
       "fffe3700360033003500              1.0            2.0      5.0       0.36  \n",
       "fffe31003300320037003900          2.0            NaN      5.8       0.49  \n",
       "fffe32003400380032003900          1.0            1.0      2.6       0.20  \n",
       "fffe31003900340031003600          3.0            7.0      6.9       0.52  "
      ]
     },
     "execution_count": 113,
     "metadata": {},
     "output_type": "execute_result"
    }
   ],
   "source": [
    "to_days = pd.to_datetime(employees_data['joined'], format= '%Y-%m-%d').dt.date\n",
    "\n",
    "last_day = date(2008,12,31)\n",
    "employees_data['experience'] = last_day - to_days\n",
    "employees_data['experience'] = employees_data.experience.dt.days\n",
    "employees_data.insert(1, 'experience', employees_data.pop('experience'))\n",
    "employees_data.drop(columns='joined', axis=1, inplace=True)\n",
    "employees_data.head()"
   ]
  },
  {
   "cell_type": "markdown",
   "metadata": {},
   "source": [
    "The next thing we notice is that the burn rate column has values from 0 to 1. In our specific case, I think it will be better if we unify them with the other 2 columns - working_hours and fatigue. Their range is from 1 to 10."
   ]
  },
  {
   "cell_type": "code",
   "execution_count": 114,
   "metadata": {},
   "outputs": [],
   "source": [
    "employees_data['burn_rate'] = employees_data['burn_rate'].apply(lambda x: x*10)"
   ]
  },
  {
   "cell_type": "code",
   "execution_count": 115,
   "metadata": {},
   "outputs": [
    {
     "data": {
      "text/plain": [
       "experience         int64\n",
       "gender            object\n",
       "company_type      object\n",
       "home_office       object\n",
       "designation      float64\n",
       "working_hours    float64\n",
       "fatigue          float64\n",
       "burn_rate        float64\n",
       "dtype: object"
      ]
     },
     "execution_count": 115,
     "metadata": {},
     "output_type": "execute_result"
    }
   ],
   "source": [
    "employees_data.dtypes"
   ]
  },
  {
   "cell_type": "code",
   "execution_count": 116,
   "metadata": {},
   "outputs": [
    {
     "data": {
      "text/plain": [
       "(22750, 8)"
      ]
     },
     "execution_count": 116,
     "metadata": {},
     "output_type": "execute_result"
    }
   ],
   "source": [
    "total_data = employees_data.shape\n",
    "total_data"
   ]
  },
  {
   "cell_type": "code",
   "execution_count": 117,
   "metadata": {},
   "outputs": [
    {
     "data": {
      "text/plain": [
       "experience          0\n",
       "gender              0\n",
       "company_type        0\n",
       "home_office         0\n",
       "designation         0\n",
       "working_hours    1381\n",
       "fatigue          2117\n",
       "burn_rate        1124\n",
       "dtype: int64"
      ]
     },
     "execution_count": 117,
     "metadata": {},
     "output_type": "execute_result"
    }
   ],
   "source": [
    "employees_data.isnull().sum()"
   ]
  },
  {
   "cell_type": "markdown",
   "metadata": {},
   "source": [
    "By checking the \"NaN\" in our data we can see there are a lot of people with no value. Actually, the first time when I tested this data I decide to remove only the last two columns and fill all woring_hours null value with the median of the column. In my opinion the data i get was distorted, besides our database is quite big and we can afford to delete all the empty fields."
   ]
  },
  {
   "cell_type": "code",
   "execution_count": 118,
   "metadata": {},
   "outputs": [
    {
     "data": {
      "text/plain": [
       "experience       0\n",
       "gender           0\n",
       "company_type     0\n",
       "home_office      0\n",
       "designation      0\n",
       "working_hours    0\n",
       "fatigue          0\n",
       "burn_rate        0\n",
       "dtype: int64"
      ]
     },
     "execution_count": 118,
     "metadata": {},
     "output_type": "execute_result"
    }
   ],
   "source": [
    "employees_data.dropna(subset = [\"burn_rate\"], inplace= True)\n",
    "employees_data.dropna(subset = [\"fatigue\"], inplace= True)\n",
    "employees_data.dropna(subset = [\"working_hours\"], inplace= True)\n",
    "#employees_data[\"working_hours\"].median()\n",
    "\n",
    "employees_data.isnull().sum()"
   ]
  },
  {
   "cell_type": "markdown",
   "metadata": {},
   "source": [
    "After this process, we deleted 4160 rows and now we are able to use 18 590."
   ]
  },
  {
   "cell_type": "code",
   "execution_count": 120,
   "metadata": {},
   "outputs": [
    {
     "data": {
      "text/plain": [
       "18590"
      ]
     },
     "execution_count": 120,
     "metadata": {},
     "output_type": "execute_result"
    }
   ],
   "source": [
    "employees_data.shape[0]"
   ]
  },
  {
   "cell_type": "code",
   "execution_count": 119,
   "metadata": {},
   "outputs": [
    {
     "data": {
      "text/plain": [
       "4160"
      ]
     },
     "execution_count": 119,
     "metadata": {},
     "output_type": "execute_result"
    }
   ],
   "source": [
    "total_data[0] - employees_data.shape[0]"
   ]
  },
  {
   "cell_type": "markdown",
   "metadata": {},
   "source": [
    "I think our dataset looks good and we can move on..."
   ]
  },
  {
   "cell_type": "markdown",
   "metadata": {},
   "source": [
    "## 2. Understanding and Visualizing the data"
   ]
  },
  {
   "cell_type": "code",
   "execution_count": 151,
   "metadata": {},
   "outputs": [
    {
     "data": {
      "text/html": [
       "<div>\n",
       "<style scoped>\n",
       "    .dataframe tbody tr th:only-of-type {\n",
       "        vertical-align: middle;\n",
       "    }\n",
       "\n",
       "    .dataframe tbody tr th {\n",
       "        vertical-align: top;\n",
       "    }\n",
       "\n",
       "    .dataframe thead th {\n",
       "        text-align: right;\n",
       "    }\n",
       "</style>\n",
       "<table border=\"1\" class=\"dataframe\">\n",
       "  <thead>\n",
       "    <tr style=\"text-align: right;\">\n",
       "      <th></th>\n",
       "      <th>experience</th>\n",
       "      <th>gender</th>\n",
       "      <th>company_type</th>\n",
       "      <th>home_office</th>\n",
       "      <th>designation</th>\n",
       "      <th>working_hours</th>\n",
       "      <th>fatigue</th>\n",
       "      <th>burn_rate</th>\n",
       "    </tr>\n",
       "    <tr>\n",
       "      <th>employee_id</th>\n",
       "      <th></th>\n",
       "      <th></th>\n",
       "      <th></th>\n",
       "      <th></th>\n",
       "      <th></th>\n",
       "      <th></th>\n",
       "      <th></th>\n",
       "      <th></th>\n",
       "    </tr>\n",
       "  </thead>\n",
       "  <tbody>\n",
       "    <tr>\n",
       "      <th>fffe32003000360033003200</th>\n",
       "      <td>92</td>\n",
       "      <td>Female</td>\n",
       "      <td>Service</td>\n",
       "      <td>No</td>\n",
       "      <td>2.0</td>\n",
       "      <td>3.0</td>\n",
       "      <td>3.8</td>\n",
       "      <td>1.6</td>\n",
       "    </tr>\n",
       "    <tr>\n",
       "      <th>fffe3700360033003500</th>\n",
       "      <td>31</td>\n",
       "      <td>Male</td>\n",
       "      <td>Service</td>\n",
       "      <td>Yes</td>\n",
       "      <td>1.0</td>\n",
       "      <td>2.0</td>\n",
       "      <td>5.0</td>\n",
       "      <td>3.6</td>\n",
       "    </tr>\n",
       "    <tr>\n",
       "      <th>fffe32003400380032003900</th>\n",
       "      <td>58</td>\n",
       "      <td>Male</td>\n",
       "      <td>Service</td>\n",
       "      <td>Yes</td>\n",
       "      <td>1.0</td>\n",
       "      <td>1.0</td>\n",
       "      <td>2.6</td>\n",
       "      <td>2.0</td>\n",
       "    </tr>\n",
       "    <tr>\n",
       "      <th>fffe31003900340031003600</th>\n",
       "      <td>160</td>\n",
       "      <td>Female</td>\n",
       "      <td>Service</td>\n",
       "      <td>No</td>\n",
       "      <td>3.0</td>\n",
       "      <td>7.0</td>\n",
       "      <td>6.9</td>\n",
       "      <td>5.2</td>\n",
       "    </tr>\n",
       "    <tr>\n",
       "      <th>fffe3300350037003500</th>\n",
       "      <td>35</td>\n",
       "      <td>Male</td>\n",
       "      <td>Product</td>\n",
       "      <td>Yes</td>\n",
       "      <td>2.0</td>\n",
       "      <td>4.0</td>\n",
       "      <td>3.6</td>\n",
       "      <td>2.9</td>\n",
       "    </tr>\n",
       "  </tbody>\n",
       "</table>\n",
       "</div>"
      ],
      "text/plain": [
       "                          experience  gender company_type home_office  \\\n",
       "employee_id                                                             \n",
       "fffe32003000360033003200          92  Female      Service          No   \n",
       "fffe3700360033003500              31    Male      Service         Yes   \n",
       "fffe32003400380032003900          58    Male      Service         Yes   \n",
       "fffe31003900340031003600         160  Female      Service          No   \n",
       "fffe3300350037003500              35    Male      Product         Yes   \n",
       "\n",
       "                          designation  working_hours  fatigue  burn_rate  \n",
       "employee_id                                                               \n",
       "fffe32003000360033003200          2.0            3.0      3.8        1.6  \n",
       "fffe3700360033003500              1.0            2.0      5.0        3.6  \n",
       "fffe32003400380032003900          1.0            1.0      2.6        2.0  \n",
       "fffe31003900340031003600          3.0            7.0      6.9        5.2  \n",
       "fffe3300350037003500              2.0            4.0      3.6        2.9  "
      ]
     },
     "execution_count": 151,
     "metadata": {},
     "output_type": "execute_result"
    }
   ],
   "source": [
    "employees_data.head()"
   ]
  },
  {
   "cell_type": "markdown",
   "metadata": {},
   "source": [
    "In this part, I will visualize demographic data column per column in order to get acquainted with the data. Lets start with "
   ]
  },
  {
   "cell_type": "code",
   "execution_count": 134,
   "metadata": {
    "scrolled": true
   },
   "outputs": [
    {
     "data": {
      "image/png": "[encoded data removed]",
      "text/plain": [
       "<Figure size 432x288 with 1 Axes>"
      ]
     },
     "metadata": {},
     "output_type": "display_data"
    }
   ],
   "source": [
    "explode = (0.1, 0.1)\n",
    "employees_data[\"gender\"].value_counts().plot.pie(explode = explode,label=\"\", autopct=\"%1.1f%%\", shadow=True, startangle=10)\n",
    "plt.title(\"Gender distribution\")\n",
    "plt.show()"
   ]
  },
  {
   "cell_type": "code",
   "execution_count": 135,
   "metadata": {},
   "outputs": [
    {
     "data": {
      "text/plain": [
       "<AxesSubplot:xlabel='home_office', ylabel='count'>"
      ]
     },
     "execution_count": 135,
     "metadata": {},
     "output_type": "execute_result"
    },
    {
     "data": {
      "image/png": "[encoded data removed]",
      "text/plain": [
       "<Figure size 432x288 with 1 Axes>"
      ]
     },
     "metadata": {
      "needs_background": "light"
     },
     "output_type": "display_data"
    }
   ],
   "source": [
    "sns.countplot(x=\"home_office\", hue=\"gender\", data=employees_data)"
   ]
  },
  {
   "cell_type": "code",
   "execution_count": 137,
   "metadata": {},
   "outputs": [
    {
     "data": {
      "text/plain": [
       "<AxesSubplot:xlabel='company_type', ylabel='count'>"
      ]
     },
     "execution_count": 137,
     "metadata": {},
     "output_type": "execute_result"
    },
    {
     "data": {
      "image/png": "[encoded data removed]",
      "text/plain": [
       "<Figure size 432x288 with 1 Axes>"
      ]
     },
     "metadata": {
      "needs_background": "light"
     },
     "output_type": "display_data"
    }
   ],
   "source": [
    "sns.countplot(data=employees_data,x=\"company_type\", hue=\"gender\")"
   ]
  },
  {
   "cell_type": "code",
   "execution_count": 136,
   "metadata": {},
   "outputs": [
    {
     "data": {
      "image/png": "[encoded data removed]",
      "text/plain": [
       "<Figure size 432x288 with 1 Axes>"
      ]
     },
     "metadata": {},
     "output_type": "display_data"
    }
   ],
   "source": [
    "employees_data[\"company_type\"].value_counts().plot.pie(explode = explode,label=\"\", autopct=\"%1.1f%%\", shadow=True, startangle=10)\n",
    "plt.title(\"Gender distribution\")\n",
    "plt.show()"
   ]
  },
  {
   "cell_type": "code",
   "execution_count": 126,
   "metadata": {},
   "outputs": [
    {
     "data": {
      "text/plain": [
       "Text(0, 0.5, 'Count')"
      ]
     },
     "execution_count": 126,
     "metadata": {},
     "output_type": "execute_result"
    },
    {
     "data": {
      "image/png": "[encoded data removed]",
      "text/plain": [
       "<Figure size 432x288 with 1 Axes>"
      ]
     },
     "metadata": {
      "needs_background": "light"
     },
     "output_type": "display_data"
    }
   ],
   "source": [
    "count_gender = employees_data['gender'].value_counts().plot(kind='bar',\n",
    "                                    title=\"Male-female employee distribution\")\n",
    "plt.xlabel(\"Gender\")\n",
    "plt.ylabel(\"Count\")"
   ]
  },
  {
   "cell_type": "markdown",
   "metadata": {},
   "source": [
    "We can clearly see in witch level in hierarchy system employees are. "
   ]
  },
  {
   "cell_type": "code",
   "execution_count": 131,
   "metadata": {},
   "outputs": [
    {
     "data": {
      "text/plain": [
       "Text(0, 0.5, 'Count')"
      ]
     },
     "execution_count": 131,
     "metadata": {},
     "output_type": "execute_result"
    },
    {
     "data": {
      "image/png": "[encoded data removed]",
      "text/plain": [
       "<Figure size 432x288 with 1 Axes>"
      ]
     },
     "metadata": {
      "needs_background": "light"
     },
     "output_type": "display_data"
    }
   ],
   "source": [
    "count_gender = employees_data['company_type'].value_counts().plot(kind='bar',\n",
    "                                    title=\"Type of the company\")\n",
    "count_gender.set_xlabel(\"Type\")\n",
    "count_gender.set_ylabel(\"Count\")"
   ]
  },
  {
   "cell_type": "code",
   "execution_count": 190,
   "metadata": {},
   "outputs": [
    {
     "data": {
      "image/png": "[encoded data removed]",
      "text/plain": [
       "<Figure size 720x360 with 1 Axes>"
      ]
     },
     "metadata": {
      "needs_background": "light"
     },
     "output_type": "display_data"
    }
   ],
   "source": [
    "employees_data[\"designation\"].value_counts().plot(kind=\"bar\", figsize=(10,5), color='red', alpha=0.7)\n",
    "plt.xlabel(\"Rank\")\n",
    "plt.ylabel(\"Number of people\")\n",
    "plt.title(\"Level in hierarchy\")\n",
    "plt.show()"
   ]
  },
  {
   "cell_type": "code",
   "execution_count": 191,
   "metadata": {},
   "outputs": [
    {
     "data": {
      "image/png": "[encoded data removed]",
      "text/plain": [
       "<Figure size 720x360 with 1 Axes>"
      ]
     },
     "metadata": {
      "needs_background": "light"
     },
     "output_type": "display_data"
    }
   ],
   "source": [
    "employees_data[\"working_hours\"].value_counts().plot(kind=\"bar\", figsize=(10,5), color='blue', alpha=0.7)\n",
    "plt.xlabel(\"Hours\")\n",
    "plt.ylabel(\"Number of people\")\n",
    "plt.title(\"Аverage working hours per day\")\n",
    "plt.show()"
   ]
  },
  {
   "cell_type": "markdown",
   "metadata": {},
   "source": [
    "We assume that our \"designation\" column indicates the level in the employee hierarchy. Bigger rank means bigger designation, the max is 5. As we can see in our database, people with rank 2 are the most (over 6000)."
   ]
  },
  {
   "cell_type": "code",
   "execution_count": 195,
   "metadata": {},
   "outputs": [
    {
     "data": {
      "image/png": "[encoded data removed]",
      "text/plain": [
       "<Figure size 720x360 with 1 Axes>"
      ]
     },
     "metadata": {
      "needs_background": "light"
     },
     "output_type": "display_data"
    }
   ],
   "source": [
    "employees_data.hist(column='fatigue',bins=50, figsize=(10,5), color='gray', alpha=1)\n",
    "plt.xlabel(\"Rank\")\n",
    "plt.ylabel(\"Number of people\")\n",
    "plt.title(\"Level in hierarchy\")\n",
    "plt.show()"
   ]
  },
  {
   "cell_type": "markdown",
   "metadata": {},
   "source": [
    "Fatigue and burn rate will be visualized best with a bar chart in my opinion. The variability is big so I decide that 50 bins visualize the data best."
   ]
  },
  {
   "cell_type": "code",
   "execution_count": 124,
   "metadata": {},
   "outputs": [
    {
     "data": {
      "image/png": "[encoded data removed]",
      "text/plain": [
       "<Figure size 432x288 with 1 Axes>"
      ]
     },
     "metadata": {
      "needs_background": "light"
     },
     "output_type": "display_data"
    }
   ],
   "source": [
    "hf = employees_data[(employees_data[\"home_office\"] == \"Yes\")]\n",
    "nohf = employees_data[(employees_data[\"home_office\"] == \"No\")]\n",
    "\n",
    "plt.hist(hf[\"burn_rate\"], alpha= .5,label = \"Home Office\", color = \"orange\")\n",
    "plt.hist(nohf[\"burn_rate\"], alpha= .5,label = \"No Home Office\", color = \"purple\")\n",
    "plt.legend(loc=\"upper right\")\n",
    "plt.title(\"Burnout depending on working place\")\n",
    "plt.xlabel(\"Burnout Coefficient\", labelpad = 5)\n",
    "plt.ylabel(\"Number of people\", labelpad = 5)\n",
    "plt.show()"
   ]
  },
  {
   "cell_type": "code",
   "execution_count": 189,
   "metadata": {},
   "outputs": [
    {
     "data": {
      "image/png": "[encoded data removed]",
      "text/plain": [
       "<Figure size 720x360 with 1 Axes>"
      ]
     },
     "metadata": {
      "needs_background": "light"
     },
     "output_type": "display_data"
    }
   ],
   "source": [
    "employees_data.hist(column='burn_rate',bins=50, figsize=(10,5), color='black', alpha=0.9)\n",
    "plt.xlabel(\"Rank\")\n",
    "plt.ylabel(\"Number of people\")\n",
    "plt.title(\"Level in hierarchy\")\n",
    "plt.show()"
   ]
  },
  {
   "cell_type": "markdown",
   "metadata": {},
   "source": [
    "From where should we start? The first thing that appears in my head is: Who has more working hours - man or woman?"
   ]
  },
  {
   "cell_type": "code",
   "execution_count": 121,
   "metadata": {},
   "outputs": [
    {
     "data": {
      "text/html": [
       "<div>\n",
       "<style scoped>\n",
       "    .dataframe tbody tr th:only-of-type {\n",
       "        vertical-align: middle;\n",
       "    }\n",
       "\n",
       "    .dataframe tbody tr th {\n",
       "        vertical-align: top;\n",
       "    }\n",
       "\n",
       "    .dataframe thead th {\n",
       "        text-align: right;\n",
       "    }\n",
       "</style>\n",
       "<table border=\"1\" class=\"dataframe\">\n",
       "  <thead>\n",
       "    <tr style=\"text-align: right;\">\n",
       "      <th></th>\n",
       "      <th>working_hours</th>\n",
       "    </tr>\n",
       "    <tr>\n",
       "      <th>gender</th>\n",
       "      <th></th>\n",
       "    </tr>\n",
       "  </thead>\n",
       "  <tbody>\n",
       "    <tr>\n",
       "      <th>Female</th>\n",
       "      <td>4.211757</td>\n",
       "    </tr>\n",
       "    <tr>\n",
       "      <th>Male</th>\n",
       "      <td>4.789438</td>\n",
       "    </tr>\n",
       "  </tbody>\n",
       "</table>\n",
       "</div>"
      ],
      "text/plain": [
       "        working_hours\n",
       "gender               \n",
       "Female       4.211757\n",
       "Male         4.789438"
      ]
     },
     "execution_count": 121,
     "metadata": {},
     "output_type": "execute_result"
    }
   ],
   "source": [
    "employees_data[[\"gender\", \"working_hours\"]].groupby(\"gender\").agg(\"mean\")"
   ]
  },
  {
   "cell_type": "code",
   "execution_count": 166,
   "metadata": {},
   "outputs": [
    {
     "data": {
      "text/html": [
       "<div>\n",
       "<style scoped>\n",
       "    .dataframe tbody tr th:only-of-type {\n",
       "        vertical-align: middle;\n",
       "    }\n",
       "\n",
       "    .dataframe tbody tr th {\n",
       "        vertical-align: top;\n",
       "    }\n",
       "\n",
       "    .dataframe thead th {\n",
       "        text-align: right;\n",
       "    }\n",
       "</style>\n",
       "<table border=\"1\" class=\"dataframe\">\n",
       "  <thead>\n",
       "    <tr style=\"text-align: right;\">\n",
       "      <th></th>\n",
       "      <th>burn_rate</th>\n",
       "    </tr>\n",
       "    <tr>\n",
       "      <th>designation</th>\n",
       "      <th></th>\n",
       "    </tr>\n",
       "  </thead>\n",
       "  <tbody>\n",
       "    <tr>\n",
       "      <th>0.0</th>\n",
       "      <td>1.513247</td>\n",
       "    </tr>\n",
       "    <tr>\n",
       "      <th>1.0</th>\n",
       "      <td>3.084750</td>\n",
       "    </tr>\n",
       "    <tr>\n",
       "      <th>2.0</th>\n",
       "      <td>4.364677</td>\n",
       "    </tr>\n",
       "    <tr>\n",
       "      <th>3.0</th>\n",
       "      <td>5.452419</td>\n",
       "    </tr>\n",
       "    <tr>\n",
       "      <th>4.0</th>\n",
       "      <td>6.870005</td>\n",
       "    </tr>\n",
       "    <tr>\n",
       "      <th>5.0</th>\n",
       "      <td>8.564669</td>\n",
       "    </tr>\n",
       "  </tbody>\n",
       "</table>\n",
       "</div>"
      ],
      "text/plain": [
       "             burn_rate\n",
       "designation           \n",
       "0.0           1.513247\n",
       "1.0           3.084750\n",
       "2.0           4.364677\n",
       "3.0           5.452419\n",
       "4.0           6.870005\n",
       "5.0           8.564669"
      ]
     },
     "execution_count": 166,
     "metadata": {},
     "output_type": "execute_result"
    }
   ],
   "source": [
    "employees_data[[\"designation\", \"burn_rate\"]].groupby(\"designation\").agg(\"mean\")"
   ]
  },
  {
   "cell_type": "code",
   "execution_count": null,
   "metadata": {},
   "outputs": [],
   "source": [
    "hf = employees_data[(employees_data[\"home_office\"] == \"Yes\")]\n",
    "nohf = employees_data[(employees_data[\"home_office\"] == \"No\")]\n",
    "\n",
    "plt.hist(hf[\"designation\"], alpha= .5,label = \"Home Office\", color = \"orange\")\n",
    "plt.hist(nohf[\"designation\"], alpha= .5,label = \"designation\", color = \"purple\")\n",
    "plt.legend(loc=\"upper right\")\n",
    "plt.title(\"Burnout depending on working place\")\n",
    "plt.xlabel(\"Burnout Coefficient\", labelpad = 5)\n",
    "plt.ylabel(\"Number of people\", labelpad = 5)\n",
    "plt.show()"
   ]
  },
  {
   "cell_type": "code",
   "execution_count": 125,
   "metadata": {},
   "outputs": [
    {
     "data": {
      "text/plain": [
       "Ttest_indResult(statistic=-44.00613323235249, pvalue=0.0)"
      ]
     },
     "execution_count": 125,
     "metadata": {},
     "output_type": "execute_result"
    }
   ],
   "source": [
    "stats.ttest_ind(hf[\"burn_rate\"],nohf[\"burn_rate\"])"
   ]
  },
  {
   "cell_type": "markdown",
   "metadata": {},
   "source": [
    "This test checking if Burnrate depends on working place (home office or no home office). From the analysis above, working place dosn't imapct Burn out rate of the employees. "
   ]
  },
  {
   "cell_type": "code",
   "execution_count": 128,
   "metadata": {},
   "outputs": [
    {
     "data": {
      "image/png": "[encoded data removed]",
      "text/plain": [
       "<Figure size 432x288 with 1 Axes>"
      ]
     },
     "metadata": {
      "needs_background": "light"
     },
     "output_type": "display_data"
    }
   ],
   "source": [
    "plt.hist(employees_data.experience)\n",
    "plt.show()"
   ]
  },
  {
   "cell_type": "code",
   "execution_count": 129,
   "metadata": {},
   "outputs": [
    {
     "data": {
      "text/plain": [
       "Female    9747\n",
       "Male      8843\n",
       "Name: gender, dtype: int64"
      ]
     },
     "execution_count": 129,
     "metadata": {},
     "output_type": "execute_result"
    }
   ],
   "source": [
    "employees_data[\"gender\"].value_counts()"
   ]
  },
  {
   "cell_type": "code",
   "execution_count": 130,
   "metadata": {},
   "outputs": [
    {
     "data": {
      "text/plain": [
       "0.9072535139017134"
      ]
     },
     "execution_count": 130,
     "metadata": {},
     "output_type": "execute_result"
    }
   ],
   "source": [
    "len(employees_data[employees_data[\"gender\"] == \"Male\"])/len(employees_data[employees_data[\"gender\"] == \"Female\"])"
   ]
  },
  {
   "cell_type": "markdown",
   "metadata": {},
   "source": [
    "Although the gap is quite tiny, there are more female employees than male employees. The ratio of men to women is 0.91. Accordingly, there are 0.91 men for every single female."
   ]
  },
  {
   "cell_type": "markdown",
   "metadata": {},
   "source": [
    "An employee may work for either a service or product company, both are allowed. The number of employees in a company of the service type is almost double that of the product type."
   ]
  },
  {
   "cell_type": "code",
   "execution_count": 132,
   "metadata": {},
   "outputs": [
    {
     "data": {
      "text/plain": [
       "Service    12174\n",
       "Product     6416\n",
       "Name: company_type, dtype: int64"
      ]
     },
     "execution_count": 132,
     "metadata": {},
     "output_type": "execute_result"
    }
   ],
   "source": [
    "employees_data[\"company_type\"].value_counts()"
   ]
  },
  {
   "cell_type": "code",
   "execution_count": 133,
   "metadata": {},
   "outputs": [
    {
     "data": {
      "text/plain": [
       "1.8974438902743143"
      ]
     },
     "execution_count": 133,
     "metadata": {},
     "output_type": "execute_result"
    }
   ],
   "source": [
    "len(employees_data[employees_data[\"company_type\"] == \"Service\"])/len(employees_data[employees_data[\"company_type\"] == \"Product\"])"
   ]
  },
  {
   "cell_type": "markdown",
   "metadata": {},
   "source": [
    "The two business types are service and product. Nearly twice as many people work for service-type companies as for product-type businesses."
   ]
  },
  {
   "cell_type": "markdown",
   "metadata": {},
   "source": [
    "## Data visualisation \n",
    "\n",
    "Lets start with speciality. I will visualisace data coulm per column in order to get acuainited with the parameters."
   ]
  },
  {
   "cell_type": "code",
   "execution_count": 138,
   "metadata": {},
   "outputs": [
    {
     "data": {
      "text/html": [
       "<div>\n",
       "<style scoped>\n",
       "    .dataframe tbody tr th:only-of-type {\n",
       "        vertical-align: middle;\n",
       "    }\n",
       "\n",
       "    .dataframe tbody tr th {\n",
       "        vertical-align: top;\n",
       "    }\n",
       "\n",
       "    .dataframe thead th {\n",
       "        text-align: right;\n",
       "    }\n",
       "</style>\n",
       "<table border=\"1\" class=\"dataframe\">\n",
       "  <thead>\n",
       "    <tr style=\"text-align: right;\">\n",
       "      <th></th>\n",
       "      <th>experience</th>\n",
       "      <th>designation</th>\n",
       "      <th>working_hours</th>\n",
       "      <th>fatigue</th>\n",
       "      <th>burn_rate</th>\n",
       "    </tr>\n",
       "  </thead>\n",
       "  <tbody>\n",
       "    <tr>\n",
       "      <th>count</th>\n",
       "      <td>18590.000000</td>\n",
       "      <td>18590.000000</td>\n",
       "      <td>18590.000000</td>\n",
       "      <td>18590.000000</td>\n",
       "      <td>18590.000000</td>\n",
       "    </tr>\n",
       "    <tr>\n",
       "      <th>mean</th>\n",
       "      <td>182.511081</td>\n",
       "      <td>2.179398</td>\n",
       "      <td>4.486552</td>\n",
       "      <td>5.732173</td>\n",
       "      <td>4.524443</td>\n",
       "    </tr>\n",
       "    <tr>\n",
       "      <th>std</th>\n",
       "      <td>105.285866</td>\n",
       "      <td>1.133148</td>\n",
       "      <td>2.044848</td>\n",
       "      <td>1.920547</td>\n",
       "      <td>1.978476</td>\n",
       "    </tr>\n",
       "    <tr>\n",
       "      <th>min</th>\n",
       "      <td>0.000000</td>\n",
       "      <td>0.000000</td>\n",
       "      <td>1.000000</td>\n",
       "      <td>0.000000</td>\n",
       "      <td>0.000000</td>\n",
       "    </tr>\n",
       "    <tr>\n",
       "      <th>25%</th>\n",
       "      <td>92.000000</td>\n",
       "      <td>1.000000</td>\n",
       "      <td>3.000000</td>\n",
       "      <td>4.600000</td>\n",
       "      <td>3.200000</td>\n",
       "    </tr>\n",
       "    <tr>\n",
       "      <th>50%</th>\n",
       "      <td>181.000000</td>\n",
       "      <td>2.000000</td>\n",
       "      <td>4.000000</td>\n",
       "      <td>5.900000</td>\n",
       "      <td>4.500000</td>\n",
       "    </tr>\n",
       "    <tr>\n",
       "      <th>75%</th>\n",
       "      <td>274.000000</td>\n",
       "      <td>3.000000</td>\n",
       "      <td>6.000000</td>\n",
       "      <td>7.100000</td>\n",
       "      <td>5.900000</td>\n",
       "    </tr>\n",
       "    <tr>\n",
       "      <th>max</th>\n",
       "      <td>365.000000</td>\n",
       "      <td>5.000000</td>\n",
       "      <td>10.000000</td>\n",
       "      <td>10.000000</td>\n",
       "      <td>10.000000</td>\n",
       "    </tr>\n",
       "  </tbody>\n",
       "</table>\n",
       "</div>"
      ],
      "text/plain": [
       "         experience   designation  working_hours       fatigue     burn_rate\n",
       "count  18590.000000  18590.000000   18590.000000  18590.000000  18590.000000\n",
       "mean     182.511081      2.179398       4.486552      5.732173      4.524443\n",
       "std      105.285866      1.133148       2.044848      1.920547      1.978476\n",
       "min        0.000000      0.000000       1.000000      0.000000      0.000000\n",
       "25%       92.000000      1.000000       3.000000      4.600000      3.200000\n",
       "50%      181.000000      2.000000       4.000000      5.900000      4.500000\n",
       "75%      274.000000      3.000000       6.000000      7.100000      5.900000\n",
       "max      365.000000      5.000000      10.000000     10.000000     10.000000"
      ]
     },
     "execution_count": 138,
     "metadata": {},
     "output_type": "execute_result"
    }
   ],
   "source": [
    "employees_data.describe()"
   ]
  },
  {
   "cell_type": "code",
   "execution_count": 122,
   "metadata": {},
   "outputs": [],
   "source": [
    "def calculate_correlation(dataframe, first_column, second_column):\n",
    "    correlation = dataframe[first_column].corr(dataframe[first_column])\n",
    "    return correlation"
   ]
  },
  {
   "cell_type": "code",
   "execution_count": 139,
   "metadata": {},
   "outputs": [
    {
     "data": {
      "text/plain": [
       "<AxesSubplot:>"
      ]
     },
     "execution_count": 139,
     "metadata": {},
     "output_type": "execute_result"
    },
    {
     "data": {
      "image/png": "[encoded data removed]",
      "text/plain": [
       "<Figure size 432x288 with 1 Axes>"
      ]
     },
     "metadata": {
      "needs_background": "light"
     },
     "output_type": "display_data"
    }
   ],
   "source": [
    "employees_data['working_hours'].plot(kind='box')"
   ]
  },
  {
   "cell_type": "code",
   "execution_count": 140,
   "metadata": {},
   "outputs": [
    {
     "data": {
      "text/plain": [
       "<AxesSubplot:>"
      ]
     },
     "execution_count": 140,
     "metadata": {},
     "output_type": "execute_result"
    },
    {
     "data": {
      "image/png": "[encoded data removed]",
      "text/plain": [
       "<Figure size 432x288 with 1 Axes>"
      ]
     },
     "metadata": {
      "needs_background": "light"
     },
     "output_type": "display_data"
    }
   ],
   "source": [
    "employees_data['designation'].plot(kind='box')"
   ]
  },
  {
   "cell_type": "code",
   "execution_count": 141,
   "metadata": {},
   "outputs": [
    {
     "data": {
      "text/plain": [
       "<AxesSubplot:>"
      ]
     },
     "execution_count": 141,
     "metadata": {},
     "output_type": "execute_result"
    },
    {
     "data": {
      "image/png": "[encoded data removed]",
      "text/plain": [
       "<Figure size 432x288 with 1 Axes>"
      ]
     },
     "metadata": {
      "needs_background": "light"
     },
     "output_type": "display_data"
    }
   ],
   "source": [
    "employees_data['fatigue'].plot(kind='box')"
   ]
  },
  {
   "cell_type": "code",
   "execution_count": 142,
   "metadata": {},
   "outputs": [
    {
     "data": {
      "text/plain": [
       "<AxesSubplot:>"
      ]
     },
     "execution_count": 142,
     "metadata": {},
     "output_type": "execute_result"
    },
    {
     "data": {
      "image/png": "[encoded data removed]",
      "text/plain": [
       "<Figure size 432x288 with 1 Axes>"
      ]
     },
     "metadata": {
      "needs_background": "light"
     },
     "output_type": "display_data"
    }
   ],
   "source": [
    "employees_data['burn_rate'].plot(kind='box')"
   ]
  },
  {
   "cell_type": "code",
   "execution_count": 143,
   "metadata": {},
   "outputs": [],
   "source": [
    "def find_outliers(dataframe):\n",
    "    lower_quartile = dataframe.quantile(0.25)\n",
    "    upper_quartile = dataframe.quantile(0.75)\n",
    "    interquartile_range = upper_quartile - lower_quartile\n",
    "    lower_fence = lower_quartile - interquartile_range * 1.5\n",
    "    upper_fence = upper_quartile + interquartile_range * 1.5\n",
    "    outliers = []\n",
    "    for i in dataframe:\n",
    "        if i < lower_fence or i > upper_fence:\n",
    "            outliers.append(i)\n",
    "    return outliers"
   ]
  },
  {
   "cell_type": "markdown",
   "metadata": {},
   "source": [
    "A measurement of statistical dispersion, or the spread of the data, is the interquartile range (IQR). The middle 50%, fourth spread, or H-spread are further names for the interquartile range. It is described as the discrepancy between the data's 75th and 25th percentiles. The data set is separated into quartiles, or four rank-ordered even sections, using linear interpolation to get the IQR. Q1 (also known as the lower quartile), Q2 (the median), and Q3 are used to identify these quartiles (also called the upper quartile)."
   ]
  },
  {
   "cell_type": "code",
   "execution_count": 144,
   "metadata": {},
   "outputs": [
    {
     "data": {
      "text/plain": [
       "375"
      ]
     },
     "execution_count": 144,
     "metadata": {},
     "output_type": "execute_result"
    }
   ],
   "source": [
    "outliers_fatigue = pd.DataFrame(find_outliers(employees_data['fatigue']))\n",
    "outliers_burn_rate = pd.DataFrame(find_outliers(employees_data['burn_rate']))\n",
    "\n",
    "total_outliers = len(outliers_fatigue) + len(outliers_burn_rate)\n",
    "total_outliers"
   ]
  },
  {
   "cell_type": "markdown",
   "metadata": {},
   "source": [
    "The total amount of outliears from 'burn_rate' and 'fatigue' is 375 employees. We can also delete them from our dataset, but in mu opinion this is going to be misstake. Differce between them and other employees is not that big and they will not gonna chage our study if we keep them."
   ]
  },
  {
   "cell_type": "code",
   "execution_count": 145,
   "metadata": {},
   "outputs": [
    {
     "data": {
      "text/plain": [
       "<AxesSubplot:xlabel='designation', ylabel='working_hours'>"
      ]
     },
     "execution_count": 145,
     "metadata": {},
     "output_type": "execute_result"
    },
    {
     "data": {
      "image/png": "[encoded data removed]",
      "text/plain": [
       "<Figure size 432x288 with 1 Axes>"
      ]
     },
     "metadata": {
      "needs_background": "light"
     },
     "output_type": "display_data"
    }
   ],
   "source": [
    "sns.lineplot(data=employees_data, x=\"designation\", y=\"working_hours\",hue=\"gender\")"
   ]
  },
  {
   "cell_type": "code",
   "execution_count": 146,
   "metadata": {
    "scrolled": true
   },
   "outputs": [
    {
     "data": {
      "text/plain": [
       "<AxesSubplot:xlabel='working_hours', ylabel='burn_rate'>"
      ]
     },
     "execution_count": 146,
     "metadata": {},
     "output_type": "execute_result"
    },
    {
     "data": {
      "image/png": "[encoded data removed]",
      "text/plain": [
       "<Figure size 432x288 with 1 Axes>"
      ]
     },
     "metadata": {
      "needs_background": "light"
     },
     "output_type": "display_data"
    }
   ],
   "source": [
    "sns.lineplot(data=employees_data, x=\"working_hours\", y=\"burn_rate\",hue=\"gender\")"
   ]
  },
  {
   "cell_type": "code",
   "execution_count": 147,
   "metadata": {},
   "outputs": [
    {
     "data": {
      "text/plain": [
       "<AxesSubplot:xlabel='working_hours', ylabel='fatigue'>"
      ]
     },
     "execution_count": 147,
     "metadata": {},
     "output_type": "execute_result"
    },
    {
     "data": {
      "image/png": "[encoded data removed]",
      "text/plain": [
       "<Figure size 432x288 with 1 Axes>"
      ]
     },
     "metadata": {
      "needs_background": "light"
     },
     "output_type": "display_data"
    }
   ],
   "source": [
    "sns.lineplot(data=employees_data, x=\"working_hours\", y=\"fatigue\",hue=\"gender\")"
   ]
  },
  {
   "cell_type": "code",
   "execution_count": 148,
   "metadata": {},
   "outputs": [
    {
     "data": {
      "text/html": [
       "<div>\n",
       "<style scoped>\n",
       "    .dataframe tbody tr th:only-of-type {\n",
       "        vertical-align: middle;\n",
       "    }\n",
       "\n",
       "    .dataframe tbody tr th {\n",
       "        vertical-align: top;\n",
       "    }\n",
       "\n",
       "    .dataframe thead th {\n",
       "        text-align: right;\n",
       "    }\n",
       "</style>\n",
       "<table border=\"1\" class=\"dataframe\">\n",
       "  <thead>\n",
       "    <tr style=\"text-align: right;\">\n",
       "      <th></th>\n",
       "      <th>experience</th>\n",
       "      <th>designation</th>\n",
       "      <th>working_hours</th>\n",
       "      <th>fatigue</th>\n",
       "      <th>burn_rate</th>\n",
       "    </tr>\n",
       "  </thead>\n",
       "  <tbody>\n",
       "    <tr>\n",
       "      <th>experience</th>\n",
       "      <td>1.000000</td>\n",
       "      <td>-0.002507</td>\n",
       "      <td>-0.002069</td>\n",
       "      <td>-0.000037</td>\n",
       "      <td>-0.000309</td>\n",
       "    </tr>\n",
       "    <tr>\n",
       "      <th>designation</th>\n",
       "      <td>-0.002507</td>\n",
       "      <td>1.000000</td>\n",
       "      <td>0.877893</td>\n",
       "      <td>0.691823</td>\n",
       "      <td>0.736412</td>\n",
       "    </tr>\n",
       "    <tr>\n",
       "      <th>working_hours</th>\n",
       "      <td>-0.002069</td>\n",
       "      <td>0.877893</td>\n",
       "      <td>1.000000</td>\n",
       "      <td>0.799563</td>\n",
       "      <td>0.855005</td>\n",
       "    </tr>\n",
       "    <tr>\n",
       "      <th>fatigue</th>\n",
       "      <td>-0.000037</td>\n",
       "      <td>0.691823</td>\n",
       "      <td>0.799563</td>\n",
       "      <td>1.000000</td>\n",
       "      <td>0.944389</td>\n",
       "    </tr>\n",
       "    <tr>\n",
       "      <th>burn_rate</th>\n",
       "      <td>-0.000309</td>\n",
       "      <td>0.736412</td>\n",
       "      <td>0.855005</td>\n",
       "      <td>0.944389</td>\n",
       "      <td>1.000000</td>\n",
       "    </tr>\n",
       "  </tbody>\n",
       "</table>\n",
       "</div>"
      ],
      "text/plain": [
       "               experience  designation  working_hours   fatigue  burn_rate\n",
       "experience       1.000000    -0.002507      -0.002069 -0.000037  -0.000309\n",
       "designation     -0.002507     1.000000       0.877893  0.691823   0.736412\n",
       "working_hours   -0.002069     0.877893       1.000000  0.799563   0.855005\n",
       "fatigue         -0.000037     0.691823       0.799563  1.000000   0.944389\n",
       "burn_rate       -0.000309     0.736412       0.855005  0.944389   1.000000"
      ]
     },
     "execution_count": 148,
     "metadata": {},
     "output_type": "execute_result"
    }
   ],
   "source": [
    "employees_data.corr()"
   ]
  },
  {
   "cell_type": "code",
   "execution_count": 149,
   "metadata": {},
   "outputs": [
    {
     "data": {
      "text/plain": [
       "<AxesSubplot:>"
      ]
     },
     "execution_count": 149,
     "metadata": {},
     "output_type": "execute_result"
    },
    {
     "data": {
      "image/png": "[encoded data removed]",
      "text/plain": [
       "<Figure size 864x504 with 2 Axes>"
      ]
     },
     "metadata": {
      "needs_background": "light"
     },
     "output_type": "display_data"
    }
   ],
   "source": [
    "plt.figure(figsize=(12,7))\n",
    "sns.heatmap(employees_data.corr(),annot=True, cmap='crest')"
   ]
  },
  {
   "cell_type": "markdown",
   "metadata": {},
   "source": [
    "We can infer the values of Fatigue and Burn Rate from one another because of their strong correlation. However, because I'm worried about overfitting the output variable, I've decided to just choose to ignore the burn rate's missing values and fill in the exhaustion score using Sklearn's imputer."
   ]
  },
  {
   "cell_type": "code",
   "execution_count": 150,
   "metadata": {},
   "outputs": [
    {
     "data": {
      "image/png": "[encoded data removed]",
      "text/plain": [
       "<Figure size 648x360 with 1 Axes>"
      ]
     },
     "metadata": {
      "needs_background": "light"
     },
     "output_type": "display_data"
    }
   ],
   "source": [
    "# We have very high correlation between some of the variables.\n",
    "# Let's focus on \"Mental Fatigue Score\" and \"Burn Rate\"\n",
    "plt.figure(figsize=(9, 5))\n",
    "plt.scatter(\"burn_rate\",\"fatigue\",  data=employees_data, s=0.3, c=\"red\")\n",
    "plt.plot([0,10], [0, 1], linewidth=5, c=\"blue\")\n",
    "plt.xlabel(\"fatigue\")\n",
    "plt.ylabel(\"burn_rate\")\n",
    "plt.xticks(range(0,11))\n",
    "plt.show()"
   ]
  }
 ],
 "metadata": {
  "kernelspec": {
   "display_name": "Python 3 (ipykernel)",
   "language": "python",
   "name": "python3"
  },
  "language_info": {
   "codemirror_mode": {
    "name": "ipython",
    "version": 3
   },
   "file_extension": ".py",
   "mimetype": "text/x-python",
   "name": "python",
   "nbconvert_exporter": "python",
   "pygments_lexer": "ipython3",
   "version": "3.10.1"
  }
 },
 "nbformat": 4,
 "nbformat_minor": 1
}
